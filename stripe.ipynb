{
  "nbformat": 4,
  "nbformat_minor": 0,
  "metadata": {
    "colab": {
      "provenance": [],
      "authorship_tag": "ABX9TyPGR0k1ZIzmofsDPrEtOQSZ",
      "include_colab_link": true
    },
    "kernelspec": {
      "name": "python3",
      "display_name": "Python 3"
    },
    "language_info": {
      "name": "python"
    }
  },
  "cells": [
    {
      "cell_type": "markdown",
      "metadata": {
        "id": "view-in-github",
        "colab_type": "text"
      },
      "source": [
        "<a href=\"https://colab.research.google.com/github/yaminikosaraju/yaminikosaraju/blob/main/stripe.ipynb\" target=\"_parent\"><img src=\"https://colab.research.google.com/assets/colab-badge.svg\" alt=\"Open In Colab\"/></a>"
      ]
    },
    {
      "cell_type": "code",
      "execution_count": 1,
      "metadata": {
        "colab": {
          "base_uri": "https://localhost:8080/"
        },
        "id": "iKik6FanfQNa",
        "outputId": "2fbe3c9a-0d93-42f8-a4b5-d5e92fca3e47"
      },
      "outputs": [
        {
          "output_type": "stream",
          "name": "stdout",
          "text": [
            "an 1222222 embedded number 1234567890123456 in the string\n",
            "an  embedded number xxxxxxxxxxxx3456 in the string\n",
            "an xxxxxxxxxxxxxxxxxxxxxxxxxxxxx3456 in the string\n",
            "an  embedded number  in the string\n",
            "\n",
            "part 1 complete!\n"
          ]
        }
      ],
      "source": [
        "# Part 1\n",
        "\n",
        "# Stripe’s customers trust us with their data and our developers are\n",
        "# careful about not logging any sensitive information.\n",
        "\n",
        "# However, odd things can happen! Credit card numbers can appear in unexpected places\n",
        "# (like if someone puts it in the wrong field on a form).\n",
        "\n",
        "# In this exercise, we will be writing a filter to ensure that any credit\n",
        "# card numbers that may have accidentally been put into a string get redacted\n",
        "# out before logging\n",
        "\n",
        "# In this part, we will write a function named redact_card_numbers that takes\n",
        "# a string as input and returns a string with potential credit card numbers\n",
        "# redacted.\n",
        "\n",
        "# * We can assume that the input string contains tokens separated by a single whitespace.\n",
        "# * Credit card numbers are represented by strings that exclusively contain digits and are 13 to 16 characters long (inclusive).\n",
        "# * The function will analyze the input string and look for any token that looks\n",
        "#   like a credit card (i.e. it contains between 13-16 consecutive digits).\n",
        "#   The function will then replace all of the digits with an \"x\" character\n",
        "#   EXCEPT for the last 4 digits for that token.\n",
        "#   It will then return the full string with the data redacted.\n",
        "\n",
        "# Examples\n",
        "\n",
        "# // 16 digit number gets redacted, other tokens will not be touched\n",
        "# redact_card_numbers(\"1234 5678 9012 3456 is a number\")\n",
        "#   returns \"xxxxxxxxxxxx3456 is a number\"\n",
        "\n",
        "# // No credit card found, no transformation needed\n",
        "# redact_card_numbers(\"basic_string 12345 no redaction\")\n",
        "#   returns \"basic_string 12345 no redaction\"\n",
        "\n",
        "# // 16 digit number in the middle of the string is redacted, other tokens are left alone.\n",
        "# redact_card_numbers(\"an 1222222 embedded number 1234567890123456 in the string\")\n",
        "#   returns \"an 1222222 embedded number xxxxxxxxxxxx3456 in the string\"\n",
        "\n",
        "\n",
        "def redact_card_numbers(s):\n",
        "    digit_set, curr_num_digits = set('1234567890'), 0\n",
        "    curr_start_index = [0 , 0]\n",
        "\n",
        "    update_indices = []\n",
        "\n",
        "    for i, el in enumerate(s):\n",
        "        if el in digit_set:\n",
        "            if curr_start_index == -1:  curr_start_index = i\n",
        "            curr_num_digits += 1\n",
        "        else:\n",
        "            if curr_num_digits <= 16 and curr_num_digits >= 13:\n",
        "                update_indices.append([curr_start_index , i])\n",
        "                curr_start_index, curr_num_digits = -1,  0\n",
        "\n",
        "    if curr_num_digits <= 16 and curr_num_digits >= 13:\n",
        "                update_indices.append([curr_start_index , len(s)])\n",
        "                curr_start_index, curr_num_digits = -1,  0\n",
        "    s = list(s)\n",
        "    for indices in update_indices:\n",
        "        for i in range(indices[0] , indices[1] - 4):\n",
        "            s[i] = 'x'\n",
        "    s = ''.join(s)\n",
        "\n",
        "\n",
        "    return s\n",
        "\n",
        "print(redact_card_numbers(\"an 1222222 embedded number 1234567890123456 in the string\"))\n",
        "print(redact_card_numbers(\"an  embedded number 1234567890123456 in the string\"))\n",
        "print(redact_card_numbers(\"an 1222222 embedded number 123453456 in the string\"))\n",
        "print(redact_card_numbers(\"an  embedded number  in the string\"))\n",
        "print(redact_card_numbers(\"\"))\n",
        "\n",
        "def test_solution_part_1():\n",
        "  test_cases = [\n",
        "      ['', '', 'Blank string returns blank value'],\n",
        "      ['123456789012', '123456789012', 'Number less than min length is unchanged'],\n",
        "      ['12345678901234567', '12345678901234567', 'Number greater than max length is unchanged'],\n",
        "      ['1234567890123', 'xxxxxxxxx0123', '13 digit number is redacted'],\n",
        "      ['12345678901234', 'xxxxxxxxxx1234', '14 digit number is redacted'],\n",
        "      ['123456789012345', 'xxxxxxxxxxx2345', '15 digit number is redacted'],\n",
        "      ['1234567890123456', 'xxxxxxxxxxxx3456', '16 digit number is redacted'],\n",
        "      ['12345abcd0123456', '12345abcd0123456', 'mixed letters and numbers is not redacted'],\n",
        "      ['two numbers 1234567890123456 1234567890123456 are redacted', 'two numbers xxxxxxxxxxxx3456 xxxxxxxxxxxx3456 are redacted', 'strings with multiple credit cards are redacted']\n",
        "    ]\n",
        "  for inp, expected, reason in test_cases:\n",
        "    value = redact_card_numbers(inp)\n",
        "    assert value == expected, reason + \" expected=\" + expected + \" received \" + value\n",
        "  print('part 1 complete!')\n",
        "\n",
        "test_solution_part_1()"
      ]
    }
  ]
}